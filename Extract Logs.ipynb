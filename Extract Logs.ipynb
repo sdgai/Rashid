{
    "nbformat_minor": 2, 
    "cells": [
        {
            "source": "### Extract Log from Cloudant DB \nAuthor : Smart Dubai Govt - Manish\n\n\n----", 
            "cell_type": "markdown", 
            "metadata": {}
        }, 
        {
            "execution_count": 3, 
            "cell_type": "code", 
            "metadata": {}, 
            "outputs": [], 
            "source": "#!pip install cloudant"
        }, 
        {
            "execution_count": 4, 
            "cell_type": "code", 
            "metadata": {}, 
            "outputs": [], 
            "source": "from cloudant.client import Cloudant\nimport cloudant as cld\nfrom dateutil import tz\nfrom cloudant.error import CloudantException\nfrom cloudant.result import Result, ResultByKey\nimport datetime\nimport time\nimport json\nimport csv\nimport pandas as pd"
        }, 
        {
            "source": "# Variables Setup", 
            "cell_type": "markdown", 
            "metadata": {}
        }, 
        {
            "execution_count": 19, 
            "cell_type": "code", 
            "metadata": {}, 
            "outputs": [], 
            "source": "environment = 2              # UAT: 1, Dev : 0\nlanguage = 'EN' \nfile_directory = 'D:\\\\4. Technical\\\\Watson Projects\\\\Logs\\\\' \nfrom_datetime = datetime.datetime(2018,3,1,0,0,0) # time in GMT  Format YYYY, MM , DD , HH,MM, SS\nto_datetime   = datetime.datetime(2018,3,31,23,59,0)\ncloudant_db = \"logs-data\"\n"
        }, 
        {
            "execution_count": 20, 
            "cell_type": "code", 
            "metadata": {}, 
            "outputs": [], 
            "source": "filedate_name = datetime.datetime.now().strftime(\"%Y%m%d%H%M\")\nif language =='AR':\n    log_input_path =  file_directory  + 'LOG_CLOUDANT_PROD_AR_'+ filedate_name +'.csv'\nelse: \n    log_input_path =  file_directory  + 'LOG_CLOUDANT_PROD_EN_'+ filedate_name +'.csv'\n\n\n"
        }, 
        {
            "execution_count": 21, 
            "cell_type": "code", 
            "metadata": {}, 
            "outputs": [], 
            "source": "#Convert Date to UNIX Date format\nepoch = datetime.datetime(1970,1,1)\nfrom_datetime = (from_datetime - epoch).total_seconds()*1000\nto_datetime = (to_datetime - epoch).total_seconds()*1000\n\n# Convert epoch/unix time to datetime\n#time.strftime('%Y-%m-%d %H:%M:%S', time.gmtime(1508756400.0))"
        }, 
        {
            "execution_count": 22, 
            "cell_type": "code", 
            "metadata": {}, 
            "outputs": [], 
            "source": "# METHOD 1: Hardcode zones:\nfrom_zone = tz.gettz('UTC')\nto_zone = tz.gettz('Asia/Dubai')\n\n# METHOD 2: Auto-detect zones:\n#from_zone = tz.tzutc()\n#to_zone = tz.tzlocal()\n\ndef convertToDateTime(df , colnames):  # col name must be provided as a list\n    for col in colnames:\n        df[col] = pd.to_datetime(df[col])\n    return df\n\ndef convertUtcToLocal(df , colnames):\n    for col in colnames:\n        df[col]=df[col].dt.tz_localize('utc').dt.tz_convert(to_zone).astype(str)\n        df[col]= df[col].map(lambda x: x.replace('+04:00','0')).map(lambda x: x[0:19])\n        df[col]=  pd.to_datetime(df[col])\n    return df    "
        }, 
        {
            "execution_count": 23, 
            "cell_type": "code", 
            "metadata": {}, 
            "outputs": [], 
            "source": "# Use the Cloudant library to create a Cloudant client.\nclient = Cloudant(serviceUsername, servicePassword, url=serviceURL)\nclient.connect()\n\n# Create an instance of the database.\nmyDatabase = client[cloudant_db]   # client.create_database(databaseName)\nif myDatabase.exists:\n    rows = []\n    result_collection = Result(myDatabase.all_docs, include_docs=True)\n    query = cld.query.Query(myDatabase, sort =[{\"_id\": \"asc\"}],\n        selector= {\"$and\": [ {\"requestTime\": {\"$gte\": from_datetime,\"$lte\": to_datetime}},{\"language\": language}]},\n        fields= [\"language\",\"conversationId\",\"request.workspace_id\",\"request.requestTime\"\n                ,\"response.intents\", \"response.input.text\",\"response.output.text\"]\n        )\n\n    #print(query)\n    for doc in query()['docs']:   # for doc in query(limit=100, skip=100)['docs']:\n        row = {}\n        try:\n            row['Language'] = doc['language']\n            row['conversation_id'] = doc['conversationId']\n            row['workspace_id'] =  doc['request']['workspace_id']\n            \n            #a= doc['request']['requestTime']\n            row['request TS'] = time.strftime('%Y-%m-%d %H:%M:%S', time.gmtime(doc['request']['requestTime']/1000.0))\n            \n            \n            \n            response = doc['response']\n            \n            if len(response['intents']) > 0:\n                row['Confidence'] = response['intents'][0]['confidence']\n                row['Intent'] = response['intents'][0]['intent']\n                \n             \n            if 'text' in response['input']: row['User Input'] = response['input']['text']\n            for outtext in response['output']['text']:\n                  if(len(outtext)>0):\n                    row['Output'] = outtext\n\n            #if 'text' in response['output']:row['Output'] = ' '.join(str(v) for v in response['output']['text'])\n\n\n            rows.append(row)\n        except Exception as e: \n            pass\n  \n    df_watson_log = pd.DataFrame(rows,columns=['Language','workspace_id','conversation_id','request TS','User Input','Output','Intent','Confidence'])\n    df_watson_log= df_watson_log[df_watson_log['User Input'] != 'start']\n    #df_watson_log.dropna(subset=['User Input'], how='all')\n    df_watson_log = convertToDateTime(df_watson_log , ['request TS'])\n    #Convert the time to Dubai time \n    df_watson_log = convertUtcToLocal(df_watson_log , ['request TS']) \n    df_watson_log = df_watson_log.sort_values(['conversation_id', 'request TS'], ascending=[False, False])\n    #df_watson_log.to_csv(log_input_path, index = False,encoding='utf-8')\n    \nclient.disconnect()\n"
        }, 
        {
            "execution_count": 7, 
            "cell_type": "code", 
            "metadata": {}, 
            "outputs": [
                {
                    "output_type": "stream", 
                    "name": "stdout", 
                    "text": "Execution completed :2018-02-01 14:00\n"
                }
            ], 
            "source": "print('Execution completed :'  + datetime.datetime.now().strftime(\"%Y-%m-%d %H:%M\"))"
        }
    ], 
    "metadata": {
        "kernelspec": {
            "display_name": "Python 3.5", 
            "name": "python3", 
            "language": "python"
        }, 
        "language_info": {
            "mimetype": "text/x-python", 
            "nbconvert_exporter": "python", 
            "version": "3.5.4", 
            "name": "python", 
            "file_extension": ".py", 
            "pygments_lexer": "ipython3", 
            "codemirror_mode": {
                "version": 3, 
                "name": "ipython"
            }
        }
    }, 
    "nbformat": 4
}